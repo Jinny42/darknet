{
  "nbformat": 4,
  "nbformat_minor": 0,
  "metadata": {
    "colab": {
      "name": "darknet_with_google_drive_for_share.ipynb의 사본",
      "provenance": [],
      "collapsed_sections": [],
      "include_colab_link": true
    },
    "kernelspec": {
      "name": "python3",
      "display_name": "Python 3"
    },
    "accelerator": "GPU"
  },
  "cells": [
    {
      "cell_type": "markdown",
      "metadata": {
        "id": "view-in-github",
        "colab_type": "text"
      },
      "source": [
        "<a href=\"https://colab.research.google.com/github/JinFree/darknet/blob/master/darknet_with_google_drive.ipynb\" target=\"_parent\"><img src=\"https://colab.research.google.com/assets/colab-badge.svg\" alt=\"Open In Colab\"/></a>"
      ]
    },
    {
      "cell_type": "code",
      "metadata": {
        "id": "czfzW9Qapxu6",
        "colab_type": "code",
        "outputId": "682d2379-69cd-4ce1-ffab-e1fd5aca8f65",
        "colab": {
          "base_uri": "https://localhost:8080/",
          "height": 125
        }
      },
      "source": [
        "from google.colab import drive\n",
        "drive.mount('/content/gdrive')"
      ],
      "execution_count": 0,
      "outputs": [
        {
          "output_type": "stream",
          "text": [
            "Go to this URL in a browser: https://accounts.google.com/o/oauth2/auth?client_id=947318989803-6bn6qk8qdgf4n4g3pfee6491hc0brc4i.apps.googleusercontent.com&redirect_uri=urn%3Aietf%3Awg%3Aoauth%3A2.0%3Aoob&scope=email%20https%3A%2F%2Fwww.googleapis.com%2Fauth%2Fdocs.test%20https%3A%2F%2Fwww.googleapis.com%2Fauth%2Fdrive%20https%3A%2F%2Fwww.googleapis.com%2Fauth%2Fdrive.photos.readonly%20https%3A%2F%2Fwww.googleapis.com%2Fauth%2Fpeopleapi.readonly&response_type=code\n",
            "\n",
            "Enter your authorization code:\n",
            "··········\n",
            "Mounted at /content/gdrive\n"
          ],
          "name": "stdout"
        }
      ]
    },
    {
      "cell_type": "code",
      "metadata": {
        "id": "h6NAFioNKyqE",
        "colab_type": "code",
        "outputId": "677d27f1-afe5-40e5-a179-999b7a8ba5d5",
        "colab": {
          "base_uri": "https://localhost:8080/",
          "height": 316
        }
      },
      "source": [
        "!nvidia-smi"
      ],
      "execution_count": 0,
      "outputs": [
        {
          "output_type": "stream",
          "text": [
            "Tue Aug 20 08:36:17 2019       \n",
            "+-----------------------------------------------------------------------------+\n",
            "| NVIDIA-SMI 418.67       Driver Version: 410.79       CUDA Version: 10.0     |\n",
            "|-------------------------------+----------------------+----------------------+\n",
            "| GPU  Name        Persistence-M| Bus-Id        Disp.A | Volatile Uncorr. ECC |\n",
            "| Fan  Temp  Perf  Pwr:Usage/Cap|         Memory-Usage | GPU-Util  Compute M. |\n",
            "|===============================+======================+======================|\n",
            "|   0  Tesla T4            Off  | 00000000:00:04.0 Off |                    0 |\n",
            "| N/A   56C    P8    17W /  70W |      0MiB / 15079MiB |      0%      Default |\n",
            "+-------------------------------+----------------------+----------------------+\n",
            "                                                                               \n",
            "+-----------------------------------------------------------------------------+\n",
            "| Processes:                                                       GPU Memory |\n",
            "|  GPU       PID   Type   Process name                             Usage      |\n",
            "|=============================================================================|\n",
            "|  No running processes found                                                 |\n",
            "+-----------------------------------------------------------------------------+\n"
          ],
          "name": "stdout"
        }
      ]
    },
    {
      "cell_type": "code",
      "metadata": {
        "id": "WqiBZGo_ESM3",
        "colab_type": "code",
        "outputId": "2d8c3a7e-dc13-4889-cca4-6cdf44aa4df5",
        "colab": {
          "base_uri": "https://localhost:8080/",
          "height": 263
        }
      },
      "source": [
        "%cd /content/gdrive/'My Drive'\n",
        "!rm -rf colab_workspace && mkdir colab_workspace\n",
        "%cd /content/gdrive/'My Drive'/colab_workspace\n",
        "!git clone https://github.com/JinFree/darknet\n",
        "%cd /content/gdrive/'My Drive'/colab_workspace\n",
        "!git clone https://github.com/ssaru/convert2Yolo.git"
      ],
      "execution_count": 0,
      "outputs": [
        {
          "output_type": "stream",
          "text": [
            "/content/gdrive/My Drive\n",
            "/content/gdrive/My Drive/colab_workspace\n",
            "Cloning into 'darknet'...\n",
            "remote: Enumerating objects: 10681, done.\u001b[K\n",
            "remote: Total 10681 (delta 0), reused 0 (delta 0), pack-reused 10681\u001b[K\n",
            "Receiving objects: 100% (10681/10681), 11.75 MiB | 7.26 MiB/s, done.\n",
            "Resolving deltas: 100% (7203/7203), done.\n",
            "Checking out files: 100% (1986/1986), done.\n",
            "/content/gdrive/My Drive/colab_workspace\n",
            "Cloning into 'convert2Yolo'...\n",
            "remote: Enumerating objects: 201, done.\u001b[K\n",
            "remote: Total 201 (delta 0), reused 0 (delta 0), pack-reused 201\u001b[K\n",
            "Receiving objects: 100% (201/201), 990.72 KiB | 2.15 MiB/s, done.\n",
            "Resolving deltas: 100% (85/85), done.\n"
          ],
          "name": "stdout"
        }
      ]
    },
    {
      "cell_type": "code",
      "metadata": {
        "id": "1JvtHTBcp3fe",
        "colab_type": "code",
        "colab": {}
      },
      "source": [
        "%cd /content/gdrive/'My Drive'/colab_workspace/darknet\n",
        "!chmod +x build_for_colab.sh\n",
        "!./build_for_colab.sh\n",
        "%cd /content/gdrive/'My Drive'/colab_workspace/convert2Yolo\n",
        "!pip3 install -r requirements.txt\n",
        "%cd /content\n",
        "!rm -rf darknet*\n",
        "!rm -rf data_object_*\n",
        "!wget https://pjreddie.com/media/files/darknet53.conv.74\n",
        "!wget https://s3.eu-central-1.amazonaws.com/avg-kitti/data_object_label_2.zip\n",
        "!unzip -qq data_object_image_2.zip\n",
        "!rm data_object_image_2.zip\n",
        "!wget https://s3.eu-central-1.amazonaws.com/avg-kitti/data_object_image_2.zip\n",
        "!unzip -qq data_object_label_2.zip\n",
        "!rm data_object_label_2.zip\n",
        "!ls"
      ],
      "execution_count": 0,
      "outputs": []
    },
    {
      "cell_type": "code",
      "metadata": {
        "id": "E03lB2ZeqBuu",
        "colab_type": "code",
        "colab": {}
      },
      "source": [
        "%cd /content/gdrive/'My Drive'/colab_workspace/convert2Yolo\n",
        "!python example.py \\\n",
        "--datasets KITTI \\\n",
        "--img_path /content/training/image_2/ \\\n",
        "--label /content/training/label_2/ \\\n",
        "--convert_output_path /content/training/image_2/ \\\n",
        "--img_type \".png\" \\\n",
        "--manipast_path /content/gdrive/'My Drive'/colab_workspace/darknet/data/ \\\n",
        "--cls_list_file /content/gdrive/'My Drive'/colab_workspace/darknet/data/kitti.names"
      ],
      "execution_count": 0,
      "outputs": []
    },
    {
      "cell_type": "code",
      "metadata": {
        "id": "VtAEPRLD4DXy",
        "colab_type": "code",
        "colab": {}
      },
      "source": [
        "!rm -rf /content/backup\n",
        "!mkdir /content/backup\n",
        "!cp /content/gdrive/'My Drive'/colab_workspace/darknet/data/manifast.txt /content/manifast.txt\n",
        "!cp /content/gdrive/'My Drive'/colab_workspace/darknet/data/kitti.names /content/kitti.names\n",
        "%cd /content/gdrive/'My Drive'/colab_workspace/darknet\n",
        "!./darknet detector train \\\n",
        "/content/gdrive/'My Drive'/colab_workspace/darknet/cfg/darknet_kitti.data \\\n",
        "/content/gdrive/'My Drive'/colab_workspace/darknet/cfg/yolov3-tiny-kitti.cfg \\\n",
        "/content/darknet53.conv.74 \\\n",
        "-dont_show | grep last.weights"
      ],
      "execution_count": 0,
      "outputs": []
    },
    {
      "cell_type": "code",
      "metadata": {
        "id": "ZonHhe3b4GUa",
        "colab_type": "code",
        "colab": {}
      },
      "source": [
        "!ls /content/backup"
      ],
      "execution_count": 0,
      "outputs": []
    },
    {
      "cell_type": "code",
      "metadata": {
        "id": "3WlHDiJq4Itj",
        "colab_type": "code",
        "colab": {}
      },
      "source": [
        "!cp /content/backup/yolov3-tiny-kitti_last.weights /content/gdrive/'My Drive'/colab_workspace/darknet/backup/yolov3-tiny-kitti_last.weights\n",
        "!ls /content/gdrive/'My Drive'/colab_workspace/darknet/backup/"
      ],
      "execution_count": 0,
      "outputs": []
    },
    {
      "cell_type": "code",
      "metadata": {
        "id": "mXUHNf--rR8v",
        "colab_type": "code",
        "colab": {}
      },
      "source": [
        "!./darknet detector train \\\n",
        "/content/gdrive/'My Drive'/colab_workspace/darknet/cfg/darknet_kitti.data \\\n",
        "/content/gdrive/'My Drive'/colab_workspace/darknet/cfg/yolov3-tiny-kitti.cfg \\\n",
        "/content/backup/yolov3-tiny-kitti_last.weights \\\n",
        "-dont_show | grep last.weights"
      ],
      "execution_count": 0,
      "outputs": []
    },
    {
      "cell_type": "code",
      "metadata": {
        "id": "p5lmC5NVzX6h",
        "colab_type": "code",
        "colab": {}
      },
      "source": [
        ""
      ],
      "execution_count": 0,
      "outputs": []
    }
  ]
}